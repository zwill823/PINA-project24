{
 "cells": [
  {
   "cell_type": "code",
   "execution_count": 19,
   "id": "ec8d2b5a-a1e9-412b-a116-739944de0314",
   "metadata": {},
   "outputs": [],
   "source": [
    "from pina.problem import SpatialProblem\n",
    "from pina import Condition,LabelTensor,Trainer\n",
    "from pina.model import FeedForward\n",
    "from pina.solvers import PINN\n",
    "from pina.geometry import Difference, CartesianDomain, EllipsoidDomain\n",
    "import matplotlib.pyplot as plt\n",
    "\n",
    "class Stokes(SpatialProblem):\n",
    "    outputvariables = ['u']\n",
    "    spatial_domain = Difference([CartesianDomain({'x':[0, 2.2], 'y':[0, 0.41]}), EllipsoidDomain({'x':[-0.5, 0.5], 'y':[-0.5, 0.5]})])\n",
    "\n",
    "    def laplace_equation(output_,input_):\n",
    "        return - 0.05 * laplacian(output_,input_,components=['ux','uy'],d=['x','y']) + div(output_,input_,components=['P'],d=['x','y'])\n",
    "\n",
    "    def div_equation(output_,input_):\n",
    "        return div(output_,input_,components=['ux','uy'],d=['x','y'])\n",
    "\n",
    "    list_eq = [laplace_equation,div_equation]\n",
    "    stokes_eq = SystemEquation[list_eq,reduction='mean']\n",
    "    def partials_equation(output_,input_):\n",
    "        x_eq = 0.05 * grad(output_,input_,components=['ux','uy'],d=['x'] - P)\n",
    "        y_eq = 0.05 * grad(output_,input_,components=['ux','uy'],d=['y'])\n",
    "        list_parti_eq = [x_eq,y_eq]\n",
    "        return SystemEquation(list_parti_eq,reduction='mean')\n",
    "\n",
    "    conditions = {\n",
    "        'gamma1': Condition(location=CartesianDomain({'x':[1, 5], 'y': 3}), equation=FixedValue(0.)),\n",
    "        'gamma2': Condition(location=CartesianDomain({'x':[1, 5], 'y': 1}), equation=FixedValue(0.)),\n",
    "        'gamma3': Condition(location=CartesianDomain({'x': 1, 'y':[1, 3]), equation=FixedValue(0.)), # fixed value u_in\n",
    "        'gamma4': Condition(location=CartesianDomain({'x': 5, 'y':[1, 3]), equation=FixedValue(0.)),\n",
    "        'D': Condition(location=CartesianDomain({'x':[1, 5], 'y': 3}), equation=Equation(stokes_eq)),"
   ]
  },
  {
   "cell_type": "code",
   "execution_count": null,
   "id": "a5635ddd-c5ea-4470-9c0f-1bea8fbc27cf",
   "metadata": {},
   "outputs": [],
   "source": []
  }
 ],
 "metadata": {
  "kernelspec": {
   "display_name": "Python 3 (ipykernel)",
   "language": "python",
   "name": "python3"
  },
  "language_info": {
   "codemirror_mode": {
    "name": "ipython",
    "version": 3
   },
   "file_extension": ".py",
   "mimetype": "text/x-python",
   "name": "python",
   "nbconvert_exporter": "python",
   "pygments_lexer": "ipython3",
   "version": "3.12.0"
  }
 },
 "nbformat": 4,
 "nbformat_minor": 5
}

{
 "cells": [
  {
   "cell_type": "code",
   "execution_count": 2,
   "id": "ec8d2b5a-a1e9-412b-a116-739944de0314",
   "metadata": {},
   "outputs": [
    {
     "ename": "ModuleNotFoundError",
     "evalue": "No module named 'pina'",
     "output_type": "error",
     "traceback": [
      "\u001b[1;31m---------------------------------------------------------------------------\u001b[0m",
      "\u001b[1;31mModuleNotFoundError\u001b[0m                       Traceback (most recent call last)",
      "Cell \u001b[1;32mIn[2], line 1\u001b[0m\n\u001b[1;32m----> 1\u001b[0m \u001b[38;5;28;01mfrom\u001b[39;00m \u001b[38;5;21;01mpina\u001b[39;00m\u001b[38;5;21;01m.\u001b[39;00m\u001b[38;5;21;01mproblem\u001b[39;00m \u001b[38;5;28;01mimport\u001b[39;00m SpatialProblem\n\u001b[0;32m      2\u001b[0m \u001b[38;5;28;01mfrom\u001b[39;00m \u001b[38;5;21;01mpina\u001b[39;00m \u001b[38;5;28;01mimport\u001b[39;00m Condition,LabelTensor,Trainer\n\u001b[0;32m      3\u001b[0m \u001b[38;5;28;01mfrom\u001b[39;00m \u001b[38;5;21;01mpina\u001b[39;00m\u001b[38;5;21;01m.\u001b[39;00m\u001b[38;5;21;01mmodel\u001b[39;00m \u001b[38;5;28;01mimport\u001b[39;00m FeedForward\n",
      "\u001b[1;31mModuleNotFoundError\u001b[0m: No module named 'pina'"
     ]
    }
   ],
   "source": [
    "from pina.problem import SpatialProblem\n",
    "from pina import Condition,LabelTensor,Trainer\n",
    "from pina.model import FeedForward\n",
    "from pina.solvers import PINN\n",
    "\n",
    "class Stokes(SpatialProblem):\n",
    "    output_variables = ['ux', 'uy', 'P']\n",
    "    # spatial_domain = cartesianDomain({'x': [], 'y': []\n",
    "    # ellipsoid_domain\n",
    "    # Conditions = {'data': Condition(input_points=LabelTensor(x,'x'),LabelTensor(y,'y'),LabelTensor(P,'P'),LabelTensor(viscosity,'viscosity'), output_points=LabelTensor(u,'u')"
   ]
  },
  {
   "cell_type": "code",
   "execution_count": null,
   "id": "a5635ddd-c5ea-4470-9c0f-1bea8fbc27cf",
   "metadata": {},
   "outputs": [],
   "source": []
  }
 ],
 "metadata": {
  "kernelspec": {
   "display_name": "Python 3 (ipykernel)",
   "language": "python",
   "name": "python3"
  },
  "language_info": {
   "codemirror_mode": {
    "name": "ipython",
    "version": 3
   },
   "file_extension": ".py",
   "mimetype": "text/x-python",
   "name": "python",
   "nbconvert_exporter": "python",
   "pygments_lexer": "ipython3",
   "version": "3.12.0"
  }
 },
 "nbformat": 4,
 "nbformat_minor": 5
}
